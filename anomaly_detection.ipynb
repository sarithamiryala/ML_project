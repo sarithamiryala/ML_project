{
 "cells": [
  {
   "cell_type": "code",
   "execution_count": 1,
   "id": "5562161a",
   "metadata": {},
   "outputs": [],
   "source": [
    "# Import libraries\n",
    "import numpy as np\n",
    "import pandas as pd\n",
    "import seaborn as sns\n",
    "import matplotlib.pyplot as plt\n",
    "import plotly.express as px\n",
    "from sklearn.ensemble import IsolationForest\n",
    "from sklearn.preprocessing import StandardScaler\n",
    "from sklearn.decomposition import PCA"
   ]
  },
  {
   "cell_type": "code",
   "execution_count": 2,
   "id": "a348d875",
   "metadata": {},
   "outputs": [],
   "source": [
    "df = pd.read_csv('sample_detect_outliers.csv')"
   ]
  },
  {
   "cell_type": "code",
   "execution_count": 3,
   "id": "fee8fb43",
   "metadata": {},
   "outputs": [
    {
     "data": {
      "text/html": [
       "<div>\n",
       "<style scoped>\n",
       "    .dataframe tbody tr th:only-of-type {\n",
       "        vertical-align: middle;\n",
       "    }\n",
       "\n",
       "    .dataframe tbody tr th {\n",
       "        vertical-align: top;\n",
       "    }\n",
       "\n",
       "    .dataframe thead th {\n",
       "        text-align: right;\n",
       "    }\n",
       "</style>\n",
       "<table border=\"1\" class=\"dataframe\">\n",
       "  <thead>\n",
       "    <tr style=\"text-align: right;\">\n",
       "      <th></th>\n",
       "      <th>identifier</th>\n",
       "      <th>lease</th>\n",
       "      <th>lag_lease</th>\n",
       "      <th>lag_market_value</th>\n",
       "      <th>lag_dividend</th>\n",
       "      <th>lag_loss</th>\n",
       "      <th>lag_cash</th>\n",
       "      <th>lag_tax_rate</th>\n",
       "      <th>lag_big4_auditor</th>\n",
       "    </tr>\n",
       "  </thead>\n",
       "  <tbody>\n",
       "    <tr>\n",
       "      <th>0</th>\n",
       "      <td>1004</td>\n",
       "      <td>1.716172</td>\n",
       "      <td>1.300330</td>\n",
       "      <td>6.953107</td>\n",
       "      <td>0.007855</td>\n",
       "      <td>0</td>\n",
       "      <td>0.036106</td>\n",
       "      <td>0.362751</td>\n",
       "      <td>1</td>\n",
       "    </tr>\n",
       "    <tr>\n",
       "      <th>1</th>\n",
       "      <td>1004</td>\n",
       "      <td>1.664240</td>\n",
       "      <td>1.802926</td>\n",
       "      <td>6.736387</td>\n",
       "      <td>0.007212</td>\n",
       "      <td>0</td>\n",
       "      <td>0.021635</td>\n",
       "      <td>0.359671</td>\n",
       "      <td>1</td>\n",
       "    </tr>\n",
       "    <tr>\n",
       "      <th>2</th>\n",
       "      <td>1004</td>\n",
       "      <td>1.163486</td>\n",
       "      <td>1.595639</td>\n",
       "      <td>7.090351</td>\n",
       "      <td>0.006781</td>\n",
       "      <td>0</td>\n",
       "      <td>0.006848</td>\n",
       "      <td>0.354971</td>\n",
       "      <td>1</td>\n",
       "    </tr>\n",
       "    <tr>\n",
       "      <th>3</th>\n",
       "      <td>1004</td>\n",
       "      <td>1.416672</td>\n",
       "      <td>1.147767</td>\n",
       "      <td>7.346950</td>\n",
       "      <td>0.006755</td>\n",
       "      <td>0</td>\n",
       "      <td>0.027284</td>\n",
       "      <td>0.210000</td>\n",
       "      <td>1</td>\n",
       "    </tr>\n",
       "    <tr>\n",
       "      <th>4</th>\n",
       "      <td>1050</td>\n",
       "      <td>0.626734</td>\n",
       "      <td>0.659966</td>\n",
       "      <td>5.562565</td>\n",
       "      <td>0.013321</td>\n",
       "      <td>1</td>\n",
       "      <td>0.065985</td>\n",
       "      <td>0.350000</td>\n",
       "      <td>0</td>\n",
       "    </tr>\n",
       "  </tbody>\n",
       "</table>\n",
       "</div>"
      ],
      "text/plain": [
       "   identifier     lease  lag_lease  lag_market_value  lag_dividend  lag_loss  \\\n",
       "0        1004  1.716172   1.300330          6.953107      0.007855         0   \n",
       "1        1004  1.664240   1.802926          6.736387      0.007212         0   \n",
       "2        1004  1.163486   1.595639          7.090351      0.006781         0   \n",
       "3        1004  1.416672   1.147767          7.346950      0.006755         0   \n",
       "4        1050  0.626734   0.659966          5.562565      0.013321         1   \n",
       "\n",
       "   lag_cash  lag_tax_rate  lag_big4_auditor  \n",
       "0  0.036106      0.362751                 1  \n",
       "1  0.021635      0.359671                 1  \n",
       "2  0.006848      0.354971                 1  \n",
       "3  0.027284      0.210000                 1  \n",
       "4  0.065985      0.350000                 0  "
      ]
     },
     "execution_count": 3,
     "metadata": {},
     "output_type": "execute_result"
    }
   ],
   "source": [
    "df.head()"
   ]
  },
  {
   "cell_type": "code",
   "execution_count": 4,
   "id": "6f3f6c71",
   "metadata": {},
   "outputs": [
    {
     "data": {
      "text/plain": [
       "(6279, 9)"
      ]
     },
     "execution_count": 4,
     "metadata": {},
     "output_type": "execute_result"
    }
   ],
   "source": [
    "\n",
    "# (Number of entries, Number of features)\n",
    "df.shape"
   ]
  },
  {
   "cell_type": "code",
   "execution_count": 5,
   "id": "7473f176",
   "metadata": {},
   "outputs": [
    {
     "data": {
      "text/html": [
       "<div>\n",
       "<style scoped>\n",
       "    .dataframe tbody tr th:only-of-type {\n",
       "        vertical-align: middle;\n",
       "    }\n",
       "\n",
       "    .dataframe tbody tr th {\n",
       "        vertical-align: top;\n",
       "    }\n",
       "\n",
       "    .dataframe thead th {\n",
       "        text-align: right;\n",
       "    }\n",
       "</style>\n",
       "<table border=\"1\" class=\"dataframe\">\n",
       "  <thead>\n",
       "    <tr style=\"text-align: right;\">\n",
       "      <th></th>\n",
       "      <th>identifier</th>\n",
       "      <th>lease</th>\n",
       "      <th>lag_lease</th>\n",
       "      <th>lag_market_value</th>\n",
       "      <th>lag_dividend</th>\n",
       "      <th>lag_loss</th>\n",
       "      <th>lag_cash</th>\n",
       "      <th>lag_tax_rate</th>\n",
       "      <th>lag_big4_auditor</th>\n",
       "    </tr>\n",
       "  </thead>\n",
       "  <tbody>\n",
       "    <tr>\n",
       "      <th>count</th>\n",
       "      <td>6279.000000</td>\n",
       "      <td>6279.000000</td>\n",
       "      <td>6279.000000</td>\n",
       "      <td>6279.000000</td>\n",
       "      <td>6279.000000</td>\n",
       "      <td>6279.000000</td>\n",
       "      <td>6279.000000</td>\n",
       "      <td>6279.000000</td>\n",
       "      <td>6279.000000</td>\n",
       "    </tr>\n",
       "    <tr>\n",
       "      <th>mean</th>\n",
       "      <td>57841.428094</td>\n",
       "      <td>1.951751</td>\n",
       "      <td>1.778861</td>\n",
       "      <td>7.625380</td>\n",
       "      <td>0.016864</td>\n",
       "      <td>0.236184</td>\n",
       "      <td>0.196037</td>\n",
       "      <td>0.255268</td>\n",
       "      <td>0.821628</td>\n",
       "    </tr>\n",
       "    <tr>\n",
       "      <th>std</th>\n",
       "      <td>66106.400906</td>\n",
       "      <td>3.091940</td>\n",
       "      <td>2.695251</td>\n",
       "      <td>1.731492</td>\n",
       "      <td>0.029755</td>\n",
       "      <td>0.424770</td>\n",
       "      <td>0.223529</td>\n",
       "      <td>0.117834</td>\n",
       "      <td>0.382856</td>\n",
       "    </tr>\n",
       "    <tr>\n",
       "      <th>min</th>\n",
       "      <td>1004.000000</td>\n",
       "      <td>0.000000</td>\n",
       "      <td>0.032784</td>\n",
       "      <td>3.607576</td>\n",
       "      <td>0.000000</td>\n",
       "      <td>0.000000</td>\n",
       "      <td>0.000571</td>\n",
       "      <td>0.000000</td>\n",
       "      <td>0.000000</td>\n",
       "    </tr>\n",
       "    <tr>\n",
       "      <th>25%</th>\n",
       "      <td>10221.000000</td>\n",
       "      <td>0.485310</td>\n",
       "      <td>0.452138</td>\n",
       "      <td>6.441416</td>\n",
       "      <td>0.000000</td>\n",
       "      <td>0.000000</td>\n",
       "      <td>0.038528</td>\n",
       "      <td>0.210000</td>\n",
       "      <td>1.000000</td>\n",
       "    </tr>\n",
       "    <tr>\n",
       "      <th>50%</th>\n",
       "      <td>24171.000000</td>\n",
       "      <td>0.919717</td>\n",
       "      <td>0.845846</td>\n",
       "      <td>7.535678</td>\n",
       "      <td>0.000000</td>\n",
       "      <td>0.000000</td>\n",
       "      <td>0.109758</td>\n",
       "      <td>0.338186</td>\n",
       "      <td>1.000000</td>\n",
       "    </tr>\n",
       "    <tr>\n",
       "      <th>75%</th>\n",
       "      <td>116166.000000</td>\n",
       "      <td>1.951153</td>\n",
       "      <td>1.801071</td>\n",
       "      <td>8.730227</td>\n",
       "      <td>0.022831</td>\n",
       "      <td>0.000000</td>\n",
       "      <td>0.262504</td>\n",
       "      <td>0.350000</td>\n",
       "      <td>1.000000</td>\n",
       "    </tr>\n",
       "    <tr>\n",
       "      <th>max</th>\n",
       "      <td>315318.000000</td>\n",
       "      <td>34.634146</td>\n",
       "      <td>15.867922</td>\n",
       "      <td>12.190620</td>\n",
       "      <td>0.203976</td>\n",
       "      <td>1.000000</td>\n",
       "      <td>0.960804</td>\n",
       "      <td>0.380506</td>\n",
       "      <td>1.000000</td>\n",
       "    </tr>\n",
       "  </tbody>\n",
       "</table>\n",
       "</div>"
      ],
      "text/plain": [
       "          identifier        lease    lag_lease  lag_market_value  \\\n",
       "count    6279.000000  6279.000000  6279.000000       6279.000000   \n",
       "mean    57841.428094     1.951751     1.778861          7.625380   \n",
       "std     66106.400906     3.091940     2.695251          1.731492   \n",
       "min      1004.000000     0.000000     0.032784          3.607576   \n",
       "25%     10221.000000     0.485310     0.452138          6.441416   \n",
       "50%     24171.000000     0.919717     0.845846          7.535678   \n",
       "75%    116166.000000     1.951153     1.801071          8.730227   \n",
       "max    315318.000000    34.634146    15.867922         12.190620   \n",
       "\n",
       "       lag_dividend     lag_loss     lag_cash  lag_tax_rate  lag_big4_auditor  \n",
       "count   6279.000000  6279.000000  6279.000000   6279.000000       6279.000000  \n",
       "mean       0.016864     0.236184     0.196037      0.255268          0.821628  \n",
       "std        0.029755     0.424770     0.223529      0.117834          0.382856  \n",
       "min        0.000000     0.000000     0.000571      0.000000          0.000000  \n",
       "25%        0.000000     0.000000     0.038528      0.210000          1.000000  \n",
       "50%        0.000000     0.000000     0.109758      0.338186          1.000000  \n",
       "75%        0.022831     0.000000     0.262504      0.350000          1.000000  \n",
       "max        0.203976     1.000000     0.960804      0.380506          1.000000  "
      ]
     },
     "execution_count": 5,
     "metadata": {},
     "output_type": "execute_result"
    }
   ],
   "source": [
    "df.describe()"
   ]
  },
  {
   "cell_type": "code",
   "execution_count": 6,
   "id": "fc0bda1b",
   "metadata": {},
   "outputs": [
    {
     "data": {
      "image/png": "[encoded data removed]",
      "text/plain": [
       "<Figure size 1440x720 with 9 Axes>"
      ]
     },
     "metadata": {
      "needs_background": "light"
     },
     "output_type": "display_data"
    }
   ],
   "source": [
    "# Show histograms - all variables except for the identifier\n",
    "sample_z = df.drop(columns='identifier')\n",
    "sample_z.hist(bins = 20, figsize =(20, 10))\n",
    "plt.show()\n",
    "\n"
   ]
  },
  {
   "cell_type": "code",
   "execution_count": 7,
   "id": "51357ac7",
   "metadata": {},
   "outputs": [],
   "source": [
    "\n",
    "# Drop identifier, lag_loss, lag_big4_auditor, and lag_tax_rate \n",
    "var = ['identifier', 'lag_loss', 'lag_big4_auditor', 'lag_tax_rate']\n",
    "sample_z = df.drop(columns=var)"
   ]
  },
  {
   "cell_type": "code",
   "execution_count": 8,
   "id": "881c88ce",
   "metadata": {},
   "outputs": [],
   "source": [
    "# lag_loss and lag_big4_auditor are indicator variables and thus do not have outliers.\n",
    "\n",
    "# Drop identifier, lag_loss, lag_big4_auditor, and lag_tax_rate \n",
    "var = ['identifier', 'lag_loss', 'lag_big4_auditor', 'lag_tax_rate']\n",
    "sample_z = df.drop(columns=var)"
   ]
  },
  {
   "cell_type": "code",
   "execution_count": 9,
   "id": "9685c3ec",
   "metadata": {},
   "outputs": [],
   "source": [
    "# Create a function to report the limits of the Z-Score\n",
    "def print_z_score_limits (df, column_name):\n",
    "    \"\"\" Print the upper and lower limits of the Z-score \"\"\"\n",
    "    \n",
    "    # Compute the limits\n",
    "    upper_limit = df[column_name].mean() + 3 * df[column_name].std()\n",
    "    lower_limit = df[column_name].mean() - 3 * df[column_name].std()\n",
    "    \n",
    "    # Round and return the limits\n",
    "    upper_limit = round(upper_limit, 2)\n",
    "    lower_limit = round(lower_limit, 2)\n",
    "    print_this = \"Variable Name: \" + column_name + \" | Upper limit: \" + str(upper_limit) + \" | Lower limit: \" + str(lower_limit)\n",
    "    return(print_this)\n"
   ]
  },
  {
   "cell_type": "code",
   "execution_count": 10,
   "id": "6390a6c4",
   "metadata": {},
   "outputs": [
    {
     "data": {
      "text/plain": [
       "'Variable Name: lag_market_value | Upper limit: 12.82 | Lower limit: 2.43'"
      ]
     },
     "execution_count": 10,
     "metadata": {},
     "output_type": "execute_result"
    }
   ],
   "source": [
    "# Print the upper and lower limits\n",
    "print_z_score_limits(sample_z, \"lag_market_value\")"
   ]
  },
  {
   "cell_type": "code",
   "execution_count": 11,
   "id": "ee16edb5",
   "metadata": {},
   "outputs": [
    {
     "name": "stdout",
     "output_type": "stream",
     "text": [
      "(6279, 5)\n"
     ]
    }
   ],
   "source": [
    "# Filter outliers\n",
    "sample_z = sample_z[(sample_z['lag_market_value'] >= 2.43) | (sample_z['lag_market_value'] <= 12.82)]\n",
    "print(sample_z.shape)"
   ]
  },
  {
   "cell_type": "code",
   "execution_count": 12,
   "id": "baeaac36",
   "metadata": {},
   "outputs": [],
   "source": [
    "# Drop lag_market_value\n",
    "sample_z = sample_z.drop(columns=['lag_market_value'])"
   ]
  },
  {
   "cell_type": "code",
   "execution_count": 13,
   "id": "6c5957cf",
   "metadata": {},
   "outputs": [],
   "source": [
    "# Replace zeros with NaNs\n",
    "sample_z['lag_dividend'] = sample_z['lag_dividend'].replace([0],np.NaN)\n",
    "sample_z['lease'] = sample_z['lease'].replace([0],np.NaN)"
   ]
  },
  {
   "cell_type": "code",
   "execution_count": 14,
   "id": "153850b4",
   "metadata": {},
   "outputs": [
    {
     "data": {
      "image/png": "[encoded data removed]",
      "text/plain": [
       "<Figure size 1440x720 with 4 Axes>"
      ]
     },
     "metadata": {
      "needs_background": "light"
     },
     "output_type": "display_data"
    }
   ],
   "source": [
    "# Create a function to conduct log transformation\n",
    "def log_transformation_function (df, column_name):\n",
    "    \"\"\" Conduct a log transformation of a variable \"\"\"\n",
    "    # Replace the values with log-transformed values\n",
    "    df[[column_name]] = df[[column_name]].apply(np.log)\n",
    "\n",
    "# Conduct log transformation on all the variables\n",
    "for column in sample_z:\n",
    "    log_transformation_function(sample_z, column)   \n",
    "    \n",
    "# Plot histograms\n",
    "sample_z.hist(bins = 20, figsize =(20, 10))\n",
    "plt.show()\n"
   ]
  },
  {
   "cell_type": "code",
   "execution_count": 15,
   "id": "d2046568",
   "metadata": {},
   "outputs": [
    {
     "name": "stdout",
     "output_type": "stream",
     "text": [
      "Variable Name: lease | Upper limit: 3.55 | Lower limit: -3.64\n",
      "Variable Name: lag_lease | Upper limit: 3.42 | Lower limit: -3.66\n",
      "Variable Name: lag_dividend | Upper limit: -0.8 | Lower limit: -6.86\n",
      "Variable Name: lag_cash | Upper limit: 1.97 | Lower limit: -6.76\n"
     ]
    }
   ],
   "source": [
    "# Print the upper and lower limits\n",
    "for column in sample_z:\n",
    "    print(print_z_score_limits(sample_z, column))"
   ]
  },
  {
   "cell_type": "code",
   "execution_count": 16,
   "id": "c84c5033",
   "metadata": {},
   "outputs": [
    {
     "name": "stdout",
     "output_type": "stream",
     "text": [
      "MAXIMUM VALUES\n",
      "lease           3.54\n",
      "lag_lease       2.76\n",
      "lag_dividend   -1.59\n",
      "lag_cash       -0.04\n",
      "dtype: float64\n"
     ]
    }
   ],
   "source": [
    "# Print the maximum values\n",
    "print(\"MAXIMUM VALUES\")\n",
    "print(round(sample_z.max(),2)) "
   ]
  },
  {
   "cell_type": "code",
   "execution_count": 17,
   "id": "a374cc05",
   "metadata": {},
   "outputs": [],
   "source": [
    "#Isolation Forest - Multi-dimensional Outlier Detection\n",
    "\n",
    "sample_isf = df.drop(columns='identifier')\n"
   ]
  },
  {
   "cell_type": "code",
   "execution_count": 18,
   "id": "5c54825f",
   "metadata": {},
   "outputs": [
    {
     "data": {
      "text/html": [
       "<div>\n",
       "<style scoped>\n",
       "    .dataframe tbody tr th:only-of-type {\n",
       "        vertical-align: middle;\n",
       "    }\n",
       "\n",
       "    .dataframe tbody tr th {\n",
       "        vertical-align: top;\n",
       "    }\n",
       "\n",
       "    .dataframe thead th {\n",
       "        text-align: right;\n",
       "    }\n",
       "</style>\n",
       "<table border=\"1\" class=\"dataframe\">\n",
       "  <thead>\n",
       "    <tr style=\"text-align: right;\">\n",
       "      <th></th>\n",
       "      <th>principal_component_1</th>\n",
       "      <th>principal_component_2</th>\n",
       "    </tr>\n",
       "  </thead>\n",
       "  <tbody>\n",
       "    <tr>\n",
       "      <th>0</th>\n",
       "      <td>-0.941123</td>\n",
       "      <td>-0.078371</td>\n",
       "    </tr>\n",
       "    <tr>\n",
       "      <th>1</th>\n",
       "      <td>-0.908097</td>\n",
       "      <td>0.062997</td>\n",
       "    </tr>\n",
       "    <tr>\n",
       "      <th>2</th>\n",
       "      <td>-0.984182</td>\n",
       "      <td>-0.140106</td>\n",
       "    </tr>\n",
       "    <tr>\n",
       "      <th>3</th>\n",
       "      <td>-0.352054</td>\n",
       "      <td>-0.265954</td>\n",
       "    </tr>\n",
       "    <tr>\n",
       "      <th>4</th>\n",
       "      <td>1.168329</td>\n",
       "      <td>-0.220572</td>\n",
       "    </tr>\n",
       "  </tbody>\n",
       "</table>\n",
       "</div>"
      ],
      "text/plain": [
       "   principal_component_1  principal_component_2\n",
       "0              -0.941123              -0.078371\n",
       "1              -0.908097               0.062997\n",
       "2              -0.984182              -0.140106\n",
       "3              -0.352054              -0.265954\n",
       "4               1.168329              -0.220572"
      ]
     },
     "execution_count": 18,
     "metadata": {},
     "output_type": "execute_result"
    }
   ],
   "source": [
    "# Conduct Principal Component Analysis (PCA)\n",
    "# conduct PCA to reduce the firm feature dimensions from 7 to 2\n",
    "\n",
    "# Standardize features\n",
    "sample_scaled = StandardScaler().fit_transform(sample_isf)\n",
    "\n",
    "# Define dimensions = 2\n",
    "pca = PCA(n_components=2)       \n",
    "\n",
    "# Conduct the PCA\n",
    "principal_comp = pca.fit_transform(sample_scaled)     \n",
    "\n",
    "# Convert to dataframe\n",
    "pca_df = pd.DataFrame(data = principal_comp, columns = ['principal_component_1', 'principal_component_2'])\n",
    "pca_df.head()\n"
   ]
  },
  {
   "cell_type": "code",
   "execution_count": 19,
   "id": "5ea8d5e0",
   "metadata": {},
   "outputs": [],
   "source": [
    "# Train the model\n",
    "isf = IsolationForest(contamination=0.04)\n",
    "isf.fit(pca_df)\n",
    "\n",
    "# Predictions\n",
    "predictions = isf.predict(pca_df)\n",
    "\n"
   ]
  },
  {
   "cell_type": "code",
   "execution_count": 20,
   "id": "2480de3d",
   "metadata": {},
   "outputs": [
    {
     "data": {
      "text/html": [
       "<div>\n",
       "<style scoped>\n",
       "    .dataframe tbody tr th:only-of-type {\n",
       "        vertical-align: middle;\n",
       "    }\n",
       "\n",
       "    .dataframe tbody tr th {\n",
       "        vertical-align: top;\n",
       "    }\n",
       "\n",
       "    .dataframe thead th {\n",
       "        text-align: right;\n",
       "    }\n",
       "</style>\n",
       "<table border=\"1\" class=\"dataframe\">\n",
       "  <thead>\n",
       "    <tr style=\"text-align: right;\">\n",
       "      <th></th>\n",
       "      <th>principal_component_1</th>\n",
       "      <th>principal_component_2</th>\n",
       "      <th>iso_forest_scores</th>\n",
       "      <th>iso_forest_outliers</th>\n",
       "    </tr>\n",
       "  </thead>\n",
       "  <tbody>\n",
       "    <tr>\n",
       "      <th>count</th>\n",
       "      <td>6.279000e+03</td>\n",
       "      <td>6.279000e+03</td>\n",
       "      <td>6279.000000</td>\n",
       "      <td>6279.000000</td>\n",
       "    </tr>\n",
       "    <tr>\n",
       "      <th>mean</th>\n",
       "      <td>1.012975e-16</td>\n",
       "      <td>-1.433972e-16</td>\n",
       "      <td>0.161289</td>\n",
       "      <td>0.919732</td>\n",
       "    </tr>\n",
       "    <tr>\n",
       "      <th>std</th>\n",
       "      <td>1.476402e+00</td>\n",
       "      <td>1.413903e+00</td>\n",
       "      <td>0.070087</td>\n",
       "      <td>0.392577</td>\n",
       "    </tr>\n",
       "    <tr>\n",
       "      <th>min</th>\n",
       "      <td>-3.451216e+00</td>\n",
       "      <td>-1.375379e+00</td>\n",
       "      <td>-0.155339</td>\n",
       "      <td>-1.000000</td>\n",
       "    </tr>\n",
       "    <tr>\n",
       "      <th>25%</th>\n",
       "      <td>-1.047614e+00</td>\n",
       "      <td>-7.105370e-01</td>\n",
       "      <td>0.131348</td>\n",
       "      <td>1.000000</td>\n",
       "    </tr>\n",
       "    <tr>\n",
       "      <th>50%</th>\n",
       "      <td>-3.918832e-01</td>\n",
       "      <td>-4.407937e-01</td>\n",
       "      <td>0.184288</td>\n",
       "      <td>1.000000</td>\n",
       "    </tr>\n",
       "    <tr>\n",
       "      <th>75%</th>\n",
       "      <td>6.940018e-01</td>\n",
       "      <td>9.532932e-02</td>\n",
       "      <td>0.213954</td>\n",
       "      <td>1.000000</td>\n",
       "    </tr>\n",
       "    <tr>\n",
       "      <th>max</th>\n",
       "      <td>4.864363e+00</td>\n",
       "      <td>1.051720e+01</td>\n",
       "      <td>0.235949</td>\n",
       "      <td>1.000000</td>\n",
       "    </tr>\n",
       "  </tbody>\n",
       "</table>\n",
       "</div>"
      ],
      "text/plain": [
       "       principal_component_1  principal_component_2  iso_forest_scores  \\\n",
       "count           6.279000e+03           6.279000e+03        6279.000000   \n",
       "mean            1.012975e-16          -1.433972e-16           0.161289   \n",
       "std             1.476402e+00           1.413903e+00           0.070087   \n",
       "min            -3.451216e+00          -1.375379e+00          -0.155339   \n",
       "25%            -1.047614e+00          -7.105370e-01           0.131348   \n",
       "50%            -3.918832e-01          -4.407937e-01           0.184288   \n",
       "75%             6.940018e-01           9.532932e-02           0.213954   \n",
       "max             4.864363e+00           1.051720e+01           0.235949   \n",
       "\n",
       "       iso_forest_outliers  \n",
       "count          6279.000000  \n",
       "mean              0.919732  \n",
       "std               0.392577  \n",
       "min              -1.000000  \n",
       "25%               1.000000  \n",
       "50%               1.000000  \n",
       "75%               1.000000  \n",
       "max               1.000000  "
      ]
     },
     "execution_count": 20,
     "metadata": {},
     "output_type": "execute_result"
    }
   ],
   "source": [
    "# Extract scores\n",
    "pca_df[\"iso_forest_scores\"] = isf.decision_function(pca_df)\n",
    "\n",
    "# Extract predictions\n",
    "pca_df[\"iso_forest_outliers\"] = predictions\n",
    "\n",
    "# Describe the dataframe\n",
    "pca_df.describe()\n"
   ]
  },
  {
   "cell_type": "code",
   "execution_count": 21,
   "id": "9b24c5bb",
   "metadata": {},
   "outputs": [
    {
     "data": {
      "text/html": [
       "<div>\n",
       "<style scoped>\n",
       "    .dataframe tbody tr th:only-of-type {\n",
       "        vertical-align: middle;\n",
       "    }\n",
       "\n",
       "    .dataframe tbody tr th {\n",
       "        vertical-align: top;\n",
       "    }\n",
       "\n",
       "    .dataframe thead th {\n",
       "        text-align: right;\n",
       "    }\n",
       "</style>\n",
       "<table border=\"1\" class=\"dataframe\">\n",
       "  <thead>\n",
       "    <tr style=\"text-align: right;\">\n",
       "      <th></th>\n",
       "      <th>principal_component_1</th>\n",
       "      <th>principal_component_2</th>\n",
       "      <th>iso_forest_scores</th>\n",
       "      <th>iso_forest_outliers</th>\n",
       "    </tr>\n",
       "  </thead>\n",
       "  <tbody>\n",
       "    <tr>\n",
       "      <th>0</th>\n",
       "      <td>-0.941123</td>\n",
       "      <td>-0.078371</td>\n",
       "      <td>0.213461</td>\n",
       "      <td>No</td>\n",
       "    </tr>\n",
       "    <tr>\n",
       "      <th>1</th>\n",
       "      <td>-0.908097</td>\n",
       "      <td>0.062997</td>\n",
       "      <td>0.207519</td>\n",
       "      <td>No</td>\n",
       "    </tr>\n",
       "    <tr>\n",
       "      <th>2</th>\n",
       "      <td>-0.984182</td>\n",
       "      <td>-0.140106</td>\n",
       "      <td>0.208859</td>\n",
       "      <td>No</td>\n",
       "    </tr>\n",
       "    <tr>\n",
       "      <th>3</th>\n",
       "      <td>-0.352054</td>\n",
       "      <td>-0.265954</td>\n",
       "      <td>0.211116</td>\n",
       "      <td>No</td>\n",
       "    </tr>\n",
       "    <tr>\n",
       "      <th>4</th>\n",
       "      <td>1.168329</td>\n",
       "      <td>-0.220572</td>\n",
       "      <td>0.168660</td>\n",
       "      <td>No</td>\n",
       "    </tr>\n",
       "  </tbody>\n",
       "</table>\n",
       "</div>"
      ],
      "text/plain": [
       "   principal_component_1  principal_component_2  iso_forest_scores  \\\n",
       "0              -0.941123              -0.078371           0.213461   \n",
       "1              -0.908097               0.062997           0.207519   \n",
       "2              -0.984182              -0.140106           0.208859   \n",
       "3              -0.352054              -0.265954           0.211116   \n",
       "4               1.168329              -0.220572           0.168660   \n",
       "\n",
       "  iso_forest_outliers  \n",
       "0                  No  \n",
       "1                  No  \n",
       "2                  No  \n",
       "3                  No  \n",
       "4                  No  "
      ]
     },
     "execution_count": 21,
     "metadata": {},
     "output_type": "execute_result"
    }
   ],
   "source": [
    "# Replace \"-1\" with \"Yes\" and \"1\" with \"No\"\n",
    "pca_df['iso_forest_outliers'] = pca_df['iso_forest_outliers'].replace([-1, 1], [\"Yes\", \"No\"])\n",
    "\n",
    "# Print the first 5 firms\n",
    "pca_df.head()"
   ]
  },
  {
   "cell_type": "code",
   "execution_count": null,
   "id": "a32c6f25",
   "metadata": {},
   "outputs": [],
   "source": []
  },
  {
   "cell_type": "code",
   "execution_count": 22,
   "id": "2a03ed92",
   "metadata": {},
   "outputs": [
    {
     "data": {
      "text/html": [
       "<div>\n",
       "<style scoped>\n",
       "    .dataframe tbody tr th:only-of-type {\n",
       "        vertical-align: middle;\n",
       "    }\n",
       "\n",
       "    .dataframe tbody tr th {\n",
       "        vertical-align: top;\n",
       "    }\n",
       "\n",
       "    .dataframe thead th {\n",
       "        text-align: right;\n",
       "    }\n",
       "</style>\n",
       "<table border=\"1\" class=\"dataframe\">\n",
       "  <thead>\n",
       "    <tr style=\"text-align: right;\">\n",
       "      <th></th>\n",
       "      <th>identifier</th>\n",
       "      <th>principal_component_1</th>\n",
       "      <th>principal_component_2</th>\n",
       "      <th>iso_forest_scores</th>\n",
       "      <th>iso_forest_outliers</th>\n",
       "    </tr>\n",
       "  </thead>\n",
       "  <tbody>\n",
       "    <tr>\n",
       "      <th>0</th>\n",
       "      <td>1004</td>\n",
       "      <td>-0.941123</td>\n",
       "      <td>-0.078371</td>\n",
       "      <td>0.213461</td>\n",
       "      <td>No</td>\n",
       "    </tr>\n",
       "    <tr>\n",
       "      <th>1</th>\n",
       "      <td>1004</td>\n",
       "      <td>-0.908097</td>\n",
       "      <td>0.062997</td>\n",
       "      <td>0.207519</td>\n",
       "      <td>No</td>\n",
       "    </tr>\n",
       "    <tr>\n",
       "      <th>2</th>\n",
       "      <td>1004</td>\n",
       "      <td>-0.984182</td>\n",
       "      <td>-0.140106</td>\n",
       "      <td>0.208859</td>\n",
       "      <td>No</td>\n",
       "    </tr>\n",
       "    <tr>\n",
       "      <th>3</th>\n",
       "      <td>1004</td>\n",
       "      <td>-0.352054</td>\n",
       "      <td>-0.265954</td>\n",
       "      <td>0.211116</td>\n",
       "      <td>No</td>\n",
       "    </tr>\n",
       "    <tr>\n",
       "      <th>4</th>\n",
       "      <td>1050</td>\n",
       "      <td>1.168329</td>\n",
       "      <td>-0.220572</td>\n",
       "      <td>0.168660</td>\n",
       "      <td>No</td>\n",
       "    </tr>\n",
       "  </tbody>\n",
       "</table>\n",
       "</div>"
      ],
      "text/plain": [
       "   identifier  principal_component_1  principal_component_2  \\\n",
       "0        1004              -0.941123              -0.078371   \n",
       "1        1004              -0.908097               0.062997   \n",
       "2        1004              -0.984182              -0.140106   \n",
       "3        1004              -0.352054              -0.265954   \n",
       "4        1050               1.168329              -0.220572   \n",
       "\n",
       "   iso_forest_scores iso_forest_outliers  \n",
       "0           0.213461                  No  \n",
       "1           0.207519                  No  \n",
       "2           0.208859                  No  \n",
       "3           0.211116                  No  \n",
       "4           0.168660                  No  "
      ]
     },
     "execution_count": 22,
     "metadata": {},
     "output_type": "execute_result"
    }
   ],
   "source": [
    "# Add identifiers and cluster assignments (labels) to the sample\n",
    "pca_df = pd.concat([df['identifier'], pca_df], axis=1)\n",
    "\n",
    "# Print the first 5 firms\n",
    "pca_df.head()"
   ]
  },
  {
   "cell_type": "code",
   "execution_count": 23,
   "id": "856bca7a",
   "metadata": {},
   "outputs": [],
   "source": [
    "# Export the sample as a csv file\n",
    "pca_df.to_csv('outliers_detected.csv')"
   ]
  },
  {
   "cell_type": "code",
   "execution_count": null,
   "id": "c3e4da09",
   "metadata": {},
   "outputs": [],
   "source": []
  }
 ],
 "metadata": {
  "kernelspec": {
   "display_name": "Python 3 (ipykernel)",
   "language": "python",
   "name": "python3"
  },
  "language_info": {
   "codemirror_mode": {
    "name": "ipython",
    "version": 3
   },
   "file_extension": ".py",
   "mimetype": "text/x-python",
   "name": "python",
   "nbconvert_exporter": "python",
   "pygments_lexer": "ipython3",
   "version": "3.9.7"
  }
 },
 "nbformat": 4,
 "nbformat_minor": 5
}
